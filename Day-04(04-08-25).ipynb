{
 "cells": [
  {
   "cell_type": "code",
   "execution_count": 3,
   "id": "0084165d-e2ed-49d1-865d-00b780e77a91",
   "metadata": {},
   "outputs": [
    {
     "name": "stdout",
     "output_type": "stream",
     "text": [
      "{'Akash': 8765456345, 'Prasad': 7454758423, 'Px': 6347461845, 'Raju': 7652364578}\n"
     ]
    },
    {
     "name": "stdin",
     "output_type": "stream",
     "text": [
      "Enter the name whose number to be modified Akash\n",
      "Enter the new number 4568764876\n"
     ]
    },
    {
     "name": "stdout",
     "output_type": "stream",
     "text": [
      "Modified successfully\n",
      "{'Akash': '4568764876', 'Prasad': 7454758423, 'Px': 6347461845, 'Raju': 7652364578}\n"
     ]
    }
   ],
   "source": [
    "# Write a python program to update an existing phonebook dictionery if tyhe number is present ,if not print no name exixts.\n",
    "Phonebook={\"Akash\":8765456345,\"Prasad\":7454758423,\"Px\":6347461845,\"Raju\":7652364578}\n",
    "print(Phonebook)\n",
    "name=input(\"Enter the name whose number to be modified\")\n",
    "if name in Phonebook:\n",
    "    newnum=input(\"Enter the new number\")\n",
    "    Phonebook[name]=newnum\n",
    "    print(\"Modified successfully\")\n",
    "    print(Phonebook)\n",
    "else:\n",
    "    print(\"No name exists\")"
   ]
  },
  {
   "cell_type": "code",
   "execution_count": 5,
   "id": "2f19e3e4-d837-435a-8a5f-49a3f439896c",
   "metadata": {},
   "outputs": [
    {
     "name": "stdout",
     "output_type": "stream",
     "text": [
      "{'Akash': 8765456345, 'Prasad': 7454758423, 'Px': 6347461845, 'Raju': 7652364578}\n",
      "{'Akash': 8765456345, 'Prasad': 7454758423, 'Px': 6347461845, 'Raju': 7652364578, 'Raa': 574568766797}\n",
      "{'Akash': 8765456345, 'Prasad': 7454758423, 'Px': 6347461845, 'Raju': 7652364578, 'Raa': 574568766797, 'Boss': 987645987}\n"
     ]
    }
   ],
   "source": [
    "Phonebook={\"Akash\":8765456345,\"Prasad\":7454758423,\"Px\":6347461845,\"Raju\":7652364578}\n",
    "print(Phonebook)\n",
    "Phonebook[\"Raa\"]=574568766797\n",
    "print(Phonebook)\n",
    "Phonebook.update({\"Boss\":987645987})\n",
    "print(Phonebook)"
   ]
  },
  {
   "cell_type": "code",
   "execution_count": 7,
   "id": "bb2bfba1-3d58-47da-b8af-baf1dcfd47a7",
   "metadata": {},
   "outputs": [
    {
     "name": "stdout",
     "output_type": "stream",
     "text": [
      "{'Akash': 8765456345, 'Prasad': 7454758423, 'Px': 6347461845, 'Raju': 7652364578}\n"
     ]
    },
    {
     "name": "stdin",
     "output_type": "stream",
     "text": [
      "Enter the name whose number to be removed Akash\n"
     ]
    },
    {
     "name": "stdout",
     "output_type": "stream",
     "text": [
      "{'Prasad': 7454758423, 'Px': 6347461845, 'Raju': 7652364578}\n"
     ]
    }
   ],
   "source": [
    "Phonebook={\"Akash\":8765456345,\"Prasad\":7454758423,\"Px\":6347461845,\"Raju\":7652364578}\n",
    "print(Phonebook)\n",
    "name=input(\"Enter the name whose number to be removed\")\n",
    "if name in Phonebook:\n",
    "    del Phonebook[name]\n",
    "    print(Phonebook)\n",
    "else:\n",
    "    print(\"No key\")"
   ]
  },
  {
   "cell_type": "code",
   "execution_count": 11,
   "id": "53a7b814-00a8-4580-ba06-aef22a19ce7f",
   "metadata": {},
   "outputs": [
    {
     "name": "stdout",
     "output_type": "stream",
     "text": [
      "{}\n"
     ]
    }
   ],
   "source": [
    "Phonebook={\"Akash\":8765456345,\"Prasad\":7454758423,\"Px\":6347461845,\"Raju\":765236457}\n",
    "Phonebook.clear()\n",
    "print(Phonebook)\n",
    "           "
   ]
  },
  {
   "cell_type": "code",
   "execution_count": null,
   "id": "1ca88934-f4ce-4e76-a219-e786f15ef9fd",
   "metadata": {},
   "outputs": [],
   "source": []
  }
 ],
 "metadata": {
  "kernelspec": {
   "display_name": "Python 3 (ipykernel)",
   "language": "python",
   "name": "python3"
  },
  "language_info": {
   "codemirror_mode": {
    "name": "ipython",
    "version": 3
   },
   "file_extension": ".py",
   "mimetype": "text/x-python",
   "name": "python",
   "nbconvert_exporter": "python",
   "pygments_lexer": "ipython3",
   "version": "3.10.0"
  }
 },
 "nbformat": 4,
 "nbformat_minor": 5
}
