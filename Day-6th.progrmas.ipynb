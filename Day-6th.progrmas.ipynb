{
 "cells": [
  {
   "cell_type": "code",
   "execution_count": 4,
   "id": "69e0aae4-bec3-420f-8f85-8705e7e537b0",
   "metadata": {},
   "outputs": [
    {
     "name": "stdout",
     "output_type": "stream",
     "text": [
      "[1 2 3]\n",
      "[2 4 6]\n",
      "[5 7 9]\n",
      "[[ 0  1  2  3]\n",
      " [ 4  5  6  7]\n",
      " [ 8  9 10 11]]\n",
      "[[19 22]\n",
      " [43 50]]\n",
      "Mean:-0.06316538726536598,Std:1.046212071061688\n"
     ]
    }
   ],
   "source": [
    "import numpy as np\n",
    "arr1=np.array([1,2,3])\n",
    "arr2=np.array([4,5,6])\n",
    "print(arr)\n",
    "# Array Operations(vectoration)\n",
    "print(arr*2)\n",
    "\n",
    "print(arr1+arr2)\n",
    "# Reshaping\n",
    "arr3=np.arange(12).reshape(3,4)\n",
    "print(arr3)\n",
    "# Matrix operatioons\n",
    "matrix1=np.array([[1,2],[3,4]])\n",
    "matrix2=np.array([[5,6],[7,8]])\n",
    "print(np.dot(matrix1,matrix2))\n",
    "# Statistical operations\n",
    "data=np.random.normal(0,1,1000)\n",
    "print(f\"Mean:{data.mean()},Std:{data.std()}\")"
   ]
  },
  {
   "cell_type": "code",
   "execution_count": 12,
   "id": "d334cd14-159a-4b4f-a841-2abdfd48db27",
   "metadata": {},
   "outputs": [
    {
     "name": "stdout",
     "output_type": "stream",
     "text": [
      "      Name  Age  Salary\n",
      "0    Alice   25    5000\n",
      "1      Bob   30   60000\n",
      "2  Charlie   35   70000\n",
      "3    David   40  800000\n",
      "    Name  Age  Salary\n",
      "0  Alice   25    5000\n",
      "1    Bob   30   60000\n",
      "             Age         Salary\n",
      "count   4.000000       4.000000\n",
      "mean   32.500000  233750.000000\n",
      "std     6.454972  378580.132425\n",
      "min    25.000000    5000.000000\n",
      "25%    28.750000   46250.000000\n",
      "50%    32.500000   65000.000000\n",
      "75%    36.250000  252500.000000\n",
      "max    40.000000  800000.000000\n",
      "32.5\n",
      "      Name  Age  Salary\n",
      "2  Charlie   35   70000\n",
      "3    David   40  800000\n",
      "      Name  Salary\n",
      "1      Bob   60000\n",
      "2  Charlie   70000\n",
      "     A    B\n",
      "0  1.0  5.0\n",
      "1  2.0  0.0\n",
      "2  0.0  0.0\n",
      "3  4.0  8.0\n",
      "     A    B\n",
      "0  1.0  5.0\n",
      "3  4.0  8.0\n"
     ]
    }
   ],
   "source": [
    "import pandas as pd\n",
    "import numpy as np\n",
    "\n",
    "data={\n",
    "    'Name':['Alice','Bob','Charlie','David'],\n",
    "    'Age':[25,30,35,40],\n",
    "    'Salary':[5000,60000,70000,800000]\n",
    "}\n",
    "\n",
    "df=pd.DataFrame(data)\n",
    "print(df)\n",
    "\n",
    "print(df.head(2))\n",
    "print(df.describe())\n",
    "print(df['Age'].mean())\n",
    "\n",
    "# data selec\n",
    "print(df[df['Age']>30])\n",
    "print(df.loc[1:2,['Name','Salary']])\n",
    "\n",
    "# handling missing data\n",
    "df_with_nan=pd.DataFrame({\n",
    "    'A':[1,2,np.nan,4],\n",
    "    'B':[5,np.nan,np.nan,8]\n",
    "})\n",
    "print(df_with_nan.fillna(value=0))\n",
    "print(df_with_nan.dropna())\n",
    "                  "
   ]
  },
  {
   "cell_type": "code",
   "execution_count": null,
   "id": "ef8bed1d-67cc-4782-8404-40fc8d1b9d6a",
   "metadata": {},
   "outputs": [],
   "source": []
  }
 ],
 "metadata": {
  "kernelspec": {
   "display_name": "Python 3 (ipykernel)",
   "language": "python",
   "name": "python3"
  },
  "language_info": {
   "codemirror_mode": {
    "name": "ipython",
    "version": 3
   },
   "file_extension": ".py",
   "mimetype": "text/x-python",
   "name": "python",
   "nbconvert_exporter": "python",
   "pygments_lexer": "ipython3",
   "version": "3.10.0"
  }
 },
 "nbformat": 4,
 "nbformat_minor": 5
}
