{
 "cells": [
  {
   "cell_type": "code",
   "execution_count": 6,
   "id": "29ef0441-96a0-47c5-a037-569675ce2b45",
   "metadata": {},
   "outputs": [
    {
     "name": "stdout",
     "output_type": "stream",
     "text": [
      "(3,)\n"
     ]
    }
   ],
   "source": [
    "tuplee=(3,)\n",
    "print(tuplee)"
   ]
  },
  {
   "cell_type": "code",
   "execution_count": 12,
   "id": "792b5a30-bb8b-45e9-8cd9-60dd50d05415",
   "metadata": {},
   "outputs": [
    {
     "name": "stdout",
     "output_type": "stream",
     "text": [
      "[1, 2, 3]\n"
     ]
    }
   ],
   "source": [
    "tup=([1,2,3])\n",
    " \n",
    "print(tup)"
   ]
  },
  {
   "cell_type": "code",
   "execution_count": 14,
   "id": "f2e3e5ad-9de5-4a40-b5a3-3144eaf30478",
   "metadata": {},
   "outputs": [
    {
     "name": "stdout",
     "output_type": "stream",
     "text": [
      "(1, 2, 3, 4, 5, 7, 12)\n"
     ]
    }
   ],
   "source": [
    "tu=(1,2,3,4,5)\n",
    "tu=tu+(7,)\n",
    "tu+=(12,)\n",
    "print(tu)"
   ]
  },
  {
   "cell_type": "code",
   "execution_count": 9,
   "id": "3834f826-c2a0-45b3-9cae-cf2031a3becf",
   "metadata": {},
   "outputs": [
    {
     "name": "stdin",
     "output_type": "stream",
     "text": [
      "Enter the number of employees 2\n",
      "Enter the salaries 232\n",
      "Enter the salaries 234\n"
     ]
    },
    {
     "name": "stdout",
     "output_type": "stream",
     "text": [
      "maximum salary is 234.0\n"
     ]
    }
   ],
   "source": [
    "n=int(input(\"Enter the number of employees\"))\n",
    "salaries=[]\n",
    "for i in range(n):\n",
    "    salary=float(input(\"Enter the salaries\"))\n",
    "    salaries.append(salary)\n",
    "\n",
    "max_salary=max(salaries)\n",
    "min_salary=min(salaries)\n",
    "\n",
    "print(f\"maximum salary is {max_salary}\")\n",
    "            \n",
    "    "
   ]
  },
  {
   "cell_type": "code",
   "execution_count": 10,
   "id": "1c52683d-6a58-464f-904e-3582d0cc273c",
   "metadata": {},
   "outputs": [
    {
     "name": "stdout",
     "output_type": "stream",
     "text": [
      "('PYTHON',)\n",
      "1\n",
      "4\n"
     ]
    }
   ],
   "source": [
    "t=tuple()\n",
    "t=t+('PYTHON',)\n",
    "print(t)\n",
    "print(len(t))\n",
    "t1=(10,20,30)\n",
    "t2=t1+t\n",
    "print(len(t2))\n",
    "\n",
    "      "
   ]
  },
  {
   "cell_type": "code",
   "execution_count": 11,
   "id": "d17f5fb3-c7e9-463c-84f8-ec4c62a78833",
   "metadata": {},
   "outputs": [
    {
     "name": "stdin",
     "output_type": "stream",
     "text": [
      "Enter the number of employees:  2\n",
      "Enter name of employee 1:  Anish\n",
      "Enter employee number of Anish:  2\n",
      "Enter name of employee 2:  Raju\n",
      "Enter employee number of Raju:  1\n"
     ]
    },
    {
     "name": "stdout",
     "output_type": "stream",
     "text": [
      "Employee Name and Number:\n",
      "Anish: 2\n",
      "Raju: 1\n"
     ]
    }
   ],
   "source": [
    "employees = {}\n",
    " \n",
    "n = int(input(\"Enter the number of employees: \"))\n",
    " \n",
    "for i in range(n):\n",
    "    name = input(f\"Enter name of employee {i+1}: \")\n",
    "    number = input(f\"Enter employee number of {name}: \")\n",
    "    employees[name] = number\n",
    "    \n",
    "print(\"Employee Name and Number:\")\n",
    "for name, number in employees.items():\n",
    "    print(f\"{name}: {number}\")"
   ]
  },
  {
   "cell_type": "code",
   "execution_count": null,
   "id": "03c53722-abaa-4378-9424-42715fdfec22",
   "metadata": {},
   "outputs": [],
   "source": []
  }
 ],
 "metadata": {
  "kernelspec": {
   "display_name": "Python 3 (ipykernel)",
   "language": "python",
   "name": "python3"
  },
  "language_info": {
   "codemirror_mode": {
    "name": "ipython",
    "version": 3
   },
   "file_extension": ".py",
   "mimetype": "text/x-python",
   "name": "python",
   "nbconvert_exporter": "python",
   "pygments_lexer": "ipython3",
   "version": "3.10.0"
  }
 },
 "nbformat": 4,
 "nbformat_minor": 5
}
