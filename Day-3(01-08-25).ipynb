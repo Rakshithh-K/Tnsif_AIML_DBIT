{
 "cells": [
  {
   "cell_type": "code",
   "execution_count": 2,
   "id": "45b1f000-2797-49c4-a2e3-0827597e5f5e",
   "metadata": {},
   "outputs": [
    {
     "name": "stdout",
     "output_type": "stream",
     "text": [
      "Enter 10 numbers:\n"
     ]
    },
    {
     "name": "stdin",
     "output_type": "stream",
     "text": [
      "Enter number:  1\n",
      "Enter number:  2\n",
      "Enter number:  3\n",
      "Enter number:  4\n",
      "Enter number:  5\n",
      "Enter number:  6\n",
      "Enter number:  7\n",
      "Enter number:  7\n",
      "Enter number:  8\n",
      "Enter number:  9\n"
     ]
    },
    {
     "name": "stdout",
     "output_type": "stream",
     "text": [
      "the list after removing third element and all odd numbers: [2, 4, 6, 8]\n"
     ]
    }
   ],
   "source": [
    "# Accept a list with numbers having 10 elements. Remove the third element and all odd elements.\n",
    "\n",
    "elements = []\n",
    "print(\"Enter 10 numbers:\")\n",
    "for i in range(10):\n",
    "    num = int(input(\"Enter number: \"))\n",
    "    elements.append(num)\n",
    "if len(elements) >= 3:\n",
    "    elements.pop(2)\n",
    "\n",
    "new_list= []\n",
    "for num in elements:\n",
    "    if num % 2 == 0:\n",
    "        new_list.append(num)\n",
    "print(\"the list after removing third element and all odd numbers:\", new_list)"
   ]
  },
  {
   "cell_type": "code",
   "execution_count": null,
   "id": "ce623868-bc28-4b9d-858d-6e45a3a31b02",
   "metadata": {},
   "outputs": [],
   "source": []
  }
 ],
 "metadata": {
  "kernelspec": {
   "display_name": "Python 3 (ipykernel)",
   "language": "python",
   "name": "python3"
  },
  "language_info": {
   "codemirror_mode": {
    "name": "ipython",
    "version": 3
   },
   "file_extension": ".py",
   "mimetype": "text/x-python",
   "name": "python",
   "nbconvert_exporter": "python",
   "pygments_lexer": "ipython3",
   "version": "3.10.0"
  }
 },
 "nbformat": 4,
 "nbformat_minor": 5
}
