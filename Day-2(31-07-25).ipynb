{
 "cells": [
  {
   "cell_type": "code",
   "execution_count": 1,
   "id": "693e4d48-8890-4d0a-ac10-23ae0165ee27",
   "metadata": {},
   "outputs": [
    {
     "name": "stdin",
     "output_type": "stream",
     "text": [
      "Enter a number:  3\n",
      "Enter a number:  4\n",
      "Enter a number:  3\n",
      "Enter a number:  2\n",
      "Enter a number:  100\n",
      "Enter a number:  100\n",
      "Enter a number:  100\n"
     ]
    },
    {
     "name": "stdout",
     "output_type": "stream",
     "text": [
      "Sum exceeded 300 Terminate it..... \n",
      "Final total: 212\n"
     ]
    }
   ],
   "source": [
    "total = 0\n",
    "\n",
    "while True:\n",
    "    try:\n",
    "        num = int(input(\"Enter a number: \"))\n",
    "        if total + num > 300:\n",
    "            print(\"Sum exceeded 300 Terminate it..... \")\n",
    "            break\n",
    "        total += num\n",
    "    except ValueError:\n",
    "        print(\"Please enter a valid number \")\n",
    "\n",
    "print(\"Final total:\", total)"
   ]
  },
  {
   "cell_type": "code",
   "execution_count": null,
   "id": "4f283efd-f97d-48ef-a9f9-5585d8423e7b",
   "metadata": {},
   "outputs": [],
   "source": [
    "# Write a program that keeps accepting strings until ‘Bon’ is entered. The program should display ‘Voyage’ and quit execution\n",
    "while True:\n",
    "    userinput = input(\"Enter a string: \")\n",
    "    if userinput == \"Bon\":\n",
    "        print(\"Voyage\")\n",
    "        break"
   ]
  },
  {
   "cell_type": "code",
   "execution_count": 2,
   "id": "07ba66e7-6862-4bf7-bc33-7c1e6e0810b4",
   "metadata": {},
   "outputs": [
    {
     "name": "stdin",
     "output_type": "stream",
     "text": [
      "Enter address:  4\n"
     ]
    },
    {
     "name": "stdout",
     "output_type": "stream",
     "text": [
      "4\n"
     ]
    }
   ],
   "source": [
    "address = input(\"Enter address: \")\n",
    "\n",
    "for i in address:\n",
    "    if i.isdigit():\n",
    "        print(i)"
   ]
  },
  {
   "cell_type": "code",
   "execution_count": null,
   "id": "2abb7494-3bd2-420a-8027-11d0c95b6815",
   "metadata": {},
   "outputs": [],
   "source": []
  }
 ],
 "metadata": {
  "kernelspec": {
   "display_name": "Python 3 (ipykernel)",
   "language": "python",
   "name": "python3"
  },
  "language_info": {
   "codemirror_mode": {
    "name": "ipython",
    "version": 3
   },
   "file_extension": ".py",
   "mimetype": "text/x-python",
   "name": "python",
   "nbconvert_exporter": "python",
   "pygments_lexer": "ipython3",
   "version": "3.10.0"
  }
 },
 "nbformat": 4,
 "nbformat_minor": 5
}
