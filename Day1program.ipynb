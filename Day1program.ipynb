{
 "cells": [
  {
   "cell_type": "code",
   "execution_count": 3,
   "id": "6972f1b5-0e59-4704-a372-9c05d46dc11e",
   "metadata": {},
   "outputs": [
    {
     "name": "stdout",
     "output_type": "stream",
     "text": [
      "\n"
     ]
    }
   ],
   "source": [
    "print()\n",
    "pin_attempt=0\n",
    "number_of_attempts=3\n",
    "\n",
    "while number_of_attempts<pin_attempt:\n",
    "    enter_pin=input(\"please enter the pin:\")\n",
    "\n",
    "    if enter_pin=='1234':\n",
    "        print(\"Welcome to account\")"
   ]
  },
  {
   "cell_type": "code",
   "execution_count": 4,
   "id": "0f484a30-4497-4cc3-80d5-9c0540681d38",
   "metadata": {},
   "outputs": [
    {
     "name": "stdout",
     "output_type": "stream",
     "text": [
      "H\n",
      "H\n",
      "H\n",
      "H\n",
      "H\n",
      "H\n",
      "H\n"
     ]
    }
   ],
   "source": [
    "for i in range(3,10,1):\n",
    "    print(\"H\")\n"
   ]
  },
  {
   "cell_type": "code",
   "execution_count": null,
   "id": "04e0c579-516d-4ac4-b230-fd3258169aa5",
   "metadata": {},
   "outputs": [
    {
     "name": "stdout",
     "output_type": "stream",
     "text": [
      "5\n",
      "20\n",
      "60\n",
      "120\n",
      "120\n"
     ]
    }
   ],
   "source": [
    "# Write a program that keeps accepting strings until ‘Bon’ is entered. The program should display ‘Voyage’ and quit execution"
   ]
  },
  {
   "cell_type": "code",
   "execution_count": 12,
   "id": "10141709-4ff8-4fbe-be38-0ccf39bb7c7e",
   "metadata": {},
   "outputs": [
    {
     "name": "stdout",
     "output_type": "stream",
     "text": [
      "ENy banglore\n"
     ]
    },
    {
     "name": "stdout",
     "output_type": "stream",
     "text": [
      "banglore\n"
     ]
    }
   ],
   "source": [
    "n=input(\"ENy\")\n",
    "for i in n:\n",
    "    if i=='a'or i=='e' or i=='i' or i=='o' or i=='u':\n",
    "        continue\n",
    "     \n",
    "else:\n",
    "    print(n)\n"
   ]
  },
  {
   "cell_type": "code",
   "execution_count": 14,
   "id": "c1ce7dc2-7140-4253-afbd-f2dfab9e0969",
   "metadata": {},
   "outputs": [
    {
     "name": "stdout",
     "output_type": "stream",
     "text": [
      "NEter\n"
     ]
    },
    {
     "name": "stdout",
     "output_type": "stream",
     "text": [
      "erhbe bghbg\n"
     ]
    },
    {
     "name": "stdout",
     "output_type": "stream",
     "text": [
      "please enter again\n"
     ]
    },
    {
     "name": "stdout",
     "output_type": "stream",
     "text": [
      "erhbe bob\n"
     ]
    },
    {
     "name": "stdout",
     "output_type": "stream",
     "text": [
      "voyage\n"
     ]
    }
   ],
   "source": [
    "print(\"NEter\")\n",
    "while True:\n",
    "    string=input(\"erhbe\")\n",
    "    if string==\"bob\":\n",
    "        print(\"voyage\")\n",
    "        break\n",
    "    else:\n",
    "        print(\"please enter again\")\n",
    "        "
   ]
  },
  {
   "cell_type": "code",
   "execution_count": 15,
   "id": "71ee11ee-062a-47c5-98ea-390f02441087",
   "metadata": {},
   "outputs": [
    {
     "name": "stdout",
     "output_type": "stream",
     "text": [
      "erhbe bb\n"
     ]
    },
    {
     "name": "stdout",
     "output_type": "stream",
     "text": [
      "please enter again\n"
     ]
    },
    {
     "name": "stdout",
     "output_type": "stream",
     "text": [
      "erhbe bob\n"
     ]
    },
    {
     "name": "stdout",
     "output_type": "stream",
     "text": [
      "voyage\n"
     ]
    }
   ],
   "source": [
    "# print(\"Please enter you name\")\n",
    "while True:\n",
    "    string=input(\"Enter the string\")\n",
    "    if string==\"bob\":\n",
    "        print(\"voyage\")\n",
    "        break\n",
    "    else:\n",
    "        print(\"please enter again\")\n",
    "        "
   ]
  },
  {
   "cell_type": "code",
   "execution_count": 18,
   "id": "e65cdcc5-41d4-4c58-bc17-ff58958dd279",
   "metadata": {},
   "outputs": [
    {
     "name": "stdout",
     "output_type": "stream",
     "text": [
      "Let's create a list with 5 elements.\n"
     ]
    },
    {
     "name": "stdout",
     "output_type": "stream",
     "text": [
      "Enter element 1:  name\n",
      "Enter element 2:  frfg\n",
      "Enter element 3:  efe\n",
      "Enter element 4:  dfd\n",
      "Enter element 5:  frwf\n"
     ]
    }
   ],
   "source": [
    "my_list = []\n",
    "print(\"Let's create a list with 5 elements.\")\n",
    "for i in range(5):\n",
    "        element = input(f\"Enter element {i + 1}: \")\n",
    "        my_list.append(element)"
   ]
  },
  {
   "cell_type": "code",
   "execution_count": 8,
   "id": "2cc69806-da2c-4074-a357-c3cd0ea2c41b",
   "metadata": {},
   "outputs": [
    {
     "name": "stdout",
     "output_type": "stream",
     "text": [
      "['yello']\n"
     ]
    }
   ],
   "source": [
    "list=['red','yello','hgfty']\n",
    "list.pop()\n",
    "list.remove('red')\n",
    "print(list)"
   ]
  },
  {
   "cell_type": "code",
   "execution_count": 24,
   "id": "5db8e816-f519-44a8-a0b0-d5df972b082e",
   "metadata": {},
   "outputs": [
    {
     "name": "stdout",
     "output_type": "stream",
     "text": [
      "Enter 10 numbers:\n"
     ]
    },
    {
     "name": "stdout",
     "output_type": "stream",
     "text": [
      "Element:  5\n",
      "Element:  6\n",
      "Element:  8\n",
      "Element:  3\n",
      "Element:  4\n",
      "Element:  5\n",
      "Element:  6\n",
      "Element:  6\n",
      "Element:  7\n",
      "Element:  3\n"
     ]
    },
    {
     "name": "stdout",
     "output_type": "stream",
     "text": [
      "Removed third element: {removed_third}\n",
      "Final list :\n",
      "[6, 4, 6, 6]\n"
     ]
    }
   ],
   "source": [
    "c"
   ]
  },
  {
   "cell_type": "code",
   "execution_count": 1,
   "id": "340bd45c-dfcf-4de2-9427-c7045a95eea7",
   "metadata": {},
   "outputs": [
    {
     "name": "stdout",
     "output_type": "stream",
     "text": [
      "Enter number:  2\n",
      "Enter number:  3\n",
      "Enter number:  4\n",
      "Enter number:  6\n",
      "Enter number:  7\n",
      "Enter number:  5\n",
      "Enter number:  4\n",
      "Enter number:  8\n",
      "Enter number:  9\n",
      "Enter number:  3\n"
     ]
    },
    {
     "name": "stdout",
     "output_type": "stream",
     "text": [
      "Final list: [2, 6, 4, 8]\n"
     ]
    }
   ],
   "source": [
    "nums = []\n",
    "for _ in range(10):\n",
    "    nums.append(int(input(\"Enter number: \"))) \n",
    "nums.pop(2) \n",
    "\n",
    "nums = [n for n in nums if n % 2 == 0] \n",
    "print(\"Final list:\", nums)"
   ]
  },
  {
   "cell_type": "code",
   "execution_count": 2,
   "id": "e7ae0970-860e-4106-a1b2-a8dacf0d83e7",
   "metadata": {},
   "outputs": [
    {
     "name": "stdout",
     "output_type": "stream",
     "text": [
      "{'raju', 6}\n"
     ]
    }
   ],
   "source": [
    "hi={6,'raju'}\n",
    "print(hi)"
   ]
  },
  {
   "cell_type": "code",
   "execution_count": null,
   "id": "3291b1a8-3e14-4c11-8be5-b6221cf3434f",
   "metadata": {},
   "outputs": [],
   "source": []
  }
 ],
 "metadata": {
  "kernelspec": {
   "display_name": "Python 3 (ipykernel)",
   "language": "python",
   "name": "python3"
  },
  "language_info": {
   "codemirror_mode": {
    "name": "ipython",
    "version": 3
   },
   "file_extension": ".py",
   "mimetype": "text/x-python",
   "name": "python",
   "nbconvert_exporter": "python",
   "pygments_lexer": "ipython3",
   "version": "3.10.0"
  }
 },
 "nbformat": 4,
 "nbformat_minor": 5
}
