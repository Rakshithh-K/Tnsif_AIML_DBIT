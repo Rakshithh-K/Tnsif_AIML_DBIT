{
 "cells": [
  {
   "cell_type": "code",
   "execution_count": 1,
   "id": "f0b42e01-cda6-4d45-85dd-67416d39f72b",
   "metadata": {},
   "outputs": [
    {
     "name": "stdout",
     "output_type": "stream",
     "text": [
      "Hello World\n"
     ]
    }
   ],
   "source": [
    "print(\"Hello World\")"
   ]
  },
  {
   "cell_type": "code",
   "execution_count": 1,
   "id": "c86eaa38-6997-4b7a-bd41-9d607d22d05d",
   "metadata": {},
   "outputs": [
    {
     "name": "stdin",
     "output_type": "stream",
     "text": [
      "Enter first number:  3\n",
      "Enter second number:  4\n"
     ]
    },
    {
     "name": "stdout",
     "output_type": "stream",
     "text": [
      "Sum: 7\n"
     ]
    }
   ],
   "source": [
    "a = int(input(\"Enter first number: \"))\n",
    "b = int(input(\"Enter second number: \"))\n",
    "print(\"Sum:\", a + b)"
   ]
  },
  {
   "cell_type": "code",
   "execution_count": 4,
   "id": "752a6ba0-d056-4eff-8e26-897d51e6d9b3",
   "metadata": {},
   "outputs": [
    {
     "name": "stdin",
     "output_type": "stream",
     "text": [
      "Enter your name:  rahu\n",
      "Enter your age:  5\n"
     ]
    },
    {
     "name": "stdout",
     "output_type": "stream",
     "text": [
      "Hello rahu, you are 5 years old.\n"
     ]
    }
   ],
   "source": [
    "name = input(\"Enter your name: \")\n",
    "age = input(\"Enter your age: \")\n",
    "print(f\"Hello {name}, you are {age} years old.\")"
   ]
  },
  {
   "cell_type": "code",
   "execution_count": 5,
   "id": "08511718-df6d-4f3e-8326-968fc2065621",
   "metadata": {},
   "outputs": [
    {
     "name": "stdin",
     "output_type": "stream",
     "text": [
      "Enter a number:  4\n"
     ]
    },
    {
     "name": "stdout",
     "output_type": "stream",
     "text": [
      "Positive\n"
     ]
    }
   ],
   "source": [
    "num = int(input(\"Enter a number: \"))\n",
    "if num > 0:\n",
    "    print(\"Positive\")\n",
    "elif num < 0:\n",
    "    print(\"Negative\")\n",
    "else:\n",
    "    print(\"Zero\")"
   ]
  },
  {
   "cell_type": "code",
   "execution_count": 6,
   "id": "cd7909da-ca2d-4220-962f-011c09629824",
   "metadata": {},
   "outputs": [
    {
     "name": "stdout",
     "output_type": "stream",
     "text": [
      "1 2 3 4 5 6 7 8 9 10 \n"
     ]
    }
   ],
   "source": [
    "for i in range(1, 11):\n",
    "    print(i, end=' ')\n",
    "print()"
   ]
  },
  {
   "cell_type": "code",
   "execution_count": 7,
   "id": "cab183a0-e58a-450d-9821-40f3f5e5ae93",
   "metadata": {},
   "outputs": [
    {
     "name": "stdout",
     "output_type": "stream",
     "text": [
      "Enter 10 numbers:\n"
     ]
    },
    {
     "name": "stdin",
     "output_type": "stream",
     "text": [
      " 3\n",
      " 4\n",
      " 5\n",
      " 2\n",
      " 3\n",
      " 6\n",
      " 8\n",
      " 6\n",
      " 5\n",
      " 3\n"
     ]
    },
    {
     "name": "stdout",
     "output_type": "stream",
     "text": [
      "List: [3, 4, 5, 2, 3, 6, 8, 6, 5, 3]\n"
     ]
    }
   ],
   "source": [
    "nums = []\n",
    "print(\"Enter 10 numbers:\")\n",
    "for _ in range(10):\n",
    "    nums.append(int(input()))\n",
    "print(\"List:\", nums)"
   ]
  },
  {
   "cell_type": "code",
   "execution_count": 16,
   "id": "30da3ad9-da16-4d41-b92f-da2af77fb484",
   "metadata": {},
   "outputs": [
    {
     "name": "stdin",
     "output_type": "stream",
     "text": [
      "Enter the First number 3\n",
      "Enter the Second number 4\n",
      "Enter the operation to perform +\n"
     ]
    },
    {
     "name": "stdout",
     "output_type": "stream",
     "text": [
      "7\n"
     ]
    }
   ],
   "source": [
    "a=int(input(\"Enter the First number\"))\n",
    "b=int(input(\"Enter the Second number\"))\n",
    "op=input(\"Enter the operation to perform\")\n",
    "if op == '+':\n",
    "    print(a + b)\n",
    "elif op == '-':\n",
    "    print(a - b)\n",
    "elif op == '*':\n",
    "    print(a * b)\n",
    "elif op == '/':\n",
    "    print(a / b)\n",
    "else:\n",
    "    print( \"Invalid operator\") \n",
    " "
   ]
  },
  {
   "cell_type": "code",
   "execution_count": null,
   "id": "700021b6-c874-4c24-83ed-65f2ffb1b840",
   "metadata": {},
   "outputs": [
    {
     "name": "stdout",
     "output_type": "stream",
     "text": [
      "Welcome to the ATM\n"
     ]
    },
    {
     "name": "stdin",
     "output_type": "stream",
     "text": [
      "Please enter your 4-digit PIN:  342343\n"
     ]
    },
    {
     "name": "stdout",
     "output_type": "stream",
     "text": [
      "Incorrect PIN. You have 2 attempt(s) left.\n"
     ]
    }
   ],
   "source": [
    "correct_pin = \"1234\"\n",
    "pin_attempts = 0\n",
    "maximum_attempts = 3\n",
    "\n",
    "print(\"Welcome to the ATM\") \n",
    "\n",
    "while pin_attempts < maximum_attempts:\n",
    "    entered_pin = input(\"Please enter your 4-digit PIN: \")\n",
    "\n",
    "    if entered_pin == correct_pin:\n",
    "        print(\"\\nPIN accepted! Welcome to your account.\")\n",
    "        print(\"\\n--- Main Menu ---\")\n",
    "        print(\"1. Check Balance\")\n",
    "        print(\"2. Deposit\")\n",
    "        print(\"3. Withdraw\")\n",
    "        print(\"4. Exit\")\n",
    "        break\n",
    "    else:\n",
    "        pin_attempts += 1\n",
    "        remaining_attempts = maximum_attempts - pin_attempts\n",
    "        if remaining_attempts > 0:\n",
    "            print(f\"Incorrect PIN. You have {remaining_attempts} attempt(s) left.\")\n",
    "        else:\n",
    "            print(\"Too many incorrect PIN attempts. Your card has been blocked.\")\n"
   ]
  },
  {
   "cell_type": "code",
   "execution_count": null,
   "id": "b7467fdd-9991-4f20-b37c-7e23ce2c5d37",
   "metadata": {},
   "outputs": [],
   "source": []
  }
 ],
 "metadata": {
  "kernelspec": {
   "display_name": "Python 3 (ipykernel)",
   "language": "python",
   "name": "python3"
  },
  "language_info": {
   "codemirror_mode": {
    "name": "ipython",
    "version": 3
   },
   "file_extension": ".py",
   "mimetype": "text/x-python",
   "name": "python",
   "nbconvert_exporter": "python",
   "pygments_lexer": "ipython3",
   "version": "3.10.0"
  }
 },
 "nbformat": 4,
 "nbformat_minor": 5
}
